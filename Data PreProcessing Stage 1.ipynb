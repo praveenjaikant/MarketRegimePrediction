{
 "cells": [
  {
   "cell_type": "markdown",
   "metadata": {},
   "source": [
    "## Team 1 - Regime Modeling For Prinicipal Financial Group "
   ]
  },
  {
   "cell_type": "markdown",
   "metadata": {},
   "source": [
    "### Data Pre-Processing Logic"
   ]
  },
  {
   "cell_type": "code",
   "execution_count": 1,
   "metadata": {},
   "outputs": [],
   "source": [
    "# importing required packages\n",
    "\n",
    "import pandas as pd\n",
    "from dateutil.parser import parse\n",
    "import csv\n",
    "import numpy as np\n",
    "import psycopg2 \n",
    "from psycopg2.extras import RealDictCursor\n",
    "from pandas.tseries.offsets import *"
   ]
  },
  {
   "cell_type": "code",
   "execution_count": 2,
   "metadata": {},
   "outputs": [],
   "source": [
    "# counting and displaying number of lines in raw data file"
   ]
  },
  {
   "cell_type": "code",
   "execution_count": 3,
   "metadata": {},
   "outputs": [],
   "source": [
    "with open('table.csv') as f:\n",
    "    num_rows = sum(1 for line in f)"
   ]
  },
  {
   "cell_type": "code",
   "execution_count": 4,
   "metadata": {},
   "outputs": [
    {
     "data": {
      "text/plain": [
       "5755967"
      ]
     },
     "execution_count": 4,
     "metadata": {},
     "output_type": "execute_result"
    }
   ],
   "source": [
    "num_rows"
   ]
  },
  {
   "cell_type": "markdown",
   "metadata": {},
   "source": [
    "### Pre-processing Algorithm\n",
    "\n",
    "Since we have over 5 million rows and 300 columns, the logic implemented follows the following steps:\n",
    "* Reads 50,000 rows at one time\n",
    "* Converts 'date' column to date type (it is currently stores as a string)\n",
    "* Creates a column 'week_ending' that holds the date of the nearest Friday\n",
    "* Drops the 'date' column\n",
    "* Aggregates columns by 'week_ending', adds up all of the text features"
   ]
  },
  {
   "cell_type": "code",
   "execution_count": 5,
   "metadata": {},
   "outputs": [
    {
     "name": "stdout",
     "output_type": "stream",
     "text": [
      "Processing piece:  1\n",
      "Processing piece:  2\n",
      "Processing piece:  3\n",
      "Processing piece:  4\n",
      "Processing piece:  5\n",
      "Processing piece:  6\n",
      "Processing piece:  7\n",
      "Processing piece:  8\n",
      "Processing piece:  9\n",
      "Processing piece:  10\n",
      "Processing piece:  11\n",
      "Processing piece:  12\n",
      "Processing piece:  13\n",
      "Processing piece:  14\n",
      "Processing piece:  15\n",
      "Processing piece:  16\n",
      "Processing piece:  17\n",
      "Processing piece:  18\n",
      "Processing piece:  19\n",
      "Processing piece:  20\n",
      "Processing piece:  21\n",
      "Processing piece:  22\n",
      "Processing piece:  23\n",
      "Processing piece:  24\n",
      "Processing piece:  25\n",
      "Processing piece:  26\n",
      "Processing piece:  27\n",
      "Processing piece:  28\n",
      "Processing piece:  29\n",
      "Processing piece:  30\n",
      "Processing piece:  31\n",
      "Processing piece:  32\n",
      "Processing piece:  33\n",
      "Processing piece:  34\n",
      "Processing piece:  35\n",
      "Processing piece:  36\n",
      "Processing piece:  37\n",
      "Processing piece:  38\n",
      "Processing piece:  39\n",
      "Processing piece:  40\n",
      "Processing piece:  41\n",
      "Processing piece:  42\n",
      "Processing piece:  43\n",
      "Processing piece:  44\n",
      "Processing piece:  45\n",
      "Processing piece:  46\n",
      "Processing piece:  47\n",
      "Processing piece:  48\n",
      "Processing piece:  49\n",
      "Processing piece:  50\n",
      "Processing piece:  51\n",
      "Processing piece:  52\n",
      "Processing piece:  53\n",
      "Processing piece:  54\n",
      "Processing piece:  55\n",
      "Processing piece:  56\n",
      "Processing piece:  57\n",
      "Processing piece:  58\n",
      "Processing piece:  59\n",
      "Processing piece:  60\n",
      "Processing piece:  61\n",
      "Processing piece:  62\n",
      "Processing piece:  63\n",
      "Processing piece:  64\n",
      "Processing piece:  65\n",
      "Processing piece:  66\n",
      "Processing piece:  67\n",
      "Processing piece:  68\n",
      "Processing piece:  69\n",
      "Processing piece:  70\n",
      "Processing piece:  71\n",
      "Processing piece:  72\n",
      "Processing piece:  73\n",
      "Processing piece:  74\n",
      "Processing piece:  75\n",
      "Processing piece:  76\n",
      "Processing piece:  77\n",
      "Processing piece:  78\n",
      "Processing piece:  79\n",
      "Processing piece:  80\n",
      "Processing piece:  81\n",
      "Processing piece:  82\n",
      "Processing piece:  83\n",
      "Processing piece:  84\n",
      "Processing piece:  85\n",
      "Processing piece:  86\n",
      "Processing piece:  87\n",
      "Processing piece:  88\n",
      "Processing piece:  89\n",
      "Processing piece:  90\n",
      "Processing piece:  91\n",
      "Processing piece:  92\n",
      "Processing piece:  93\n",
      "Processing piece:  94\n",
      "Processing piece:  95\n",
      "Processing piece:  96\n",
      "Processing piece:  97\n",
      "Processing piece:  98\n",
      "Processing piece:  99\n",
      "Processing piece:  100\n",
      "Processing piece:  101\n",
      "Processing piece:  102\n",
      "Processing piece:  103\n",
      "Processing piece:  104\n",
      "Processing piece:  105\n",
      "Processing piece:  106\n",
      "Processing piece:  107\n",
      "Processing piece:  108\n",
      "Processing piece:  109\n",
      "Processing piece:  110\n",
      "Processing piece:  111\n",
      "Processing piece:  112\n",
      "Processing piece:  113\n",
      "Processing piece:  114\n",
      "Processing piece:  115\n"
     ]
    }
   ],
   "source": [
    "i = 0\n",
    "read_size = 50000\n",
    "final_df = pd.DataFrame()\n",
    "\n",
    "while ((read_size*(i+1)) < num_rows):\n",
    "    print(\"Processing piece: \",i+1)\n",
    "    col_list = [j for j in range(4,313)]\n",
    "    col_list.insert(0,0)\n",
    "    df = pd.read_csv(\"table.csv\", skiprows=read_size*i, nrows=read_size, usecols = col_list)\n",
    "    col_names = pd.read_excel('ColNames.xlsx')\n",
    "    df.columns = col_names[0]\n",
    "    df['date']  = pd.to_datetime(df['date'])\n",
    "    df['one'] = 1\n",
    "    df['week_ending'] = df['date'] + Week(weekday=4)\n",
    "    df.drop(['date'], axis = 1, inplace=True)\n",
    "    df_group = pd.DataFrame(df.groupby('week_ending').sum())\n",
    "    final_df = final_df.append(df_group)\n",
    "    i = i + 1\n"
   ]
  },
  {
   "cell_type": "code",
   "execution_count": 6,
   "metadata": {},
   "outputs": [],
   "source": [
    "# checking length of dataframe"
   ]
  },
  {
   "cell_type": "code",
   "execution_count": 7,
   "metadata": {},
   "outputs": [
    {
     "data": {
      "text/plain": [
       "90439"
      ]
     },
     "execution_count": 7,
     "metadata": {},
     "output_type": "execute_result"
    }
   ],
   "source": [
    "len(final_df)"
   ]
  },
  {
   "cell_type": "code",
   "execution_count": 8,
   "metadata": {},
   "outputs": [
    {
     "data": {
      "text/html": [
       "<div>\n",
       "<style scoped>\n",
       "    .dataframe tbody tr th:only-of-type {\n",
       "        vertical-align: middle;\n",
       "    }\n",
       "\n",
       "    .dataframe tbody tr th {\n",
       "        vertical-align: top;\n",
       "    }\n",
       "\n",
       "    .dataframe thead th {\n",
       "        text-align: right;\n",
       "    }\n",
       "</style>\n",
       "<table border=\"1\" class=\"dataframe\">\n",
       "  <thead>\n",
       "    <tr style=\"text-align: right;\">\n",
       "      <th></th>\n",
       "      <th>free_cash_flow</th>\n",
       "      <th>competitive_environment</th>\n",
       "      <th>strong_demand_bool</th>\n",
       "      <th>product_cycle</th>\n",
       "      <th>epidemic</th>\n",
       "      <th>higher_prices_bool</th>\n",
       "      <th>government_dissatisfaction</th>\n",
       "      <th>weak_strategy_bool</th>\n",
       "      <th>corporate_governance</th>\n",
       "      <th>management</th>\n",
       "      <th>...</th>\n",
       "      <th>industry_neg_headwinds</th>\n",
       "      <th>management_defensiveness</th>\n",
       "      <th>industry_pos_general</th>\n",
       "      <th>finance_neg_revenue_down</th>\n",
       "      <th>industry_neg_demand_unstable</th>\n",
       "      <th>economy_neg_yield_curve_inverting</th>\n",
       "      <th>management_buzz_growth</th>\n",
       "      <th>industry_specific_ltip_drivers</th>\n",
       "      <th>industry_neg_margin_larger</th>\n",
       "      <th>one</th>\n",
       "    </tr>\n",
       "    <tr>\n",
       "      <th>week_ending</th>\n",
       "      <th></th>\n",
       "      <th></th>\n",
       "      <th></th>\n",
       "      <th></th>\n",
       "      <th></th>\n",
       "      <th></th>\n",
       "      <th></th>\n",
       "      <th></th>\n",
       "      <th></th>\n",
       "      <th></th>\n",
       "      <th></th>\n",
       "      <th></th>\n",
       "      <th></th>\n",
       "      <th></th>\n",
       "      <th></th>\n",
       "      <th></th>\n",
       "      <th></th>\n",
       "      <th></th>\n",
       "      <th></th>\n",
       "      <th></th>\n",
       "      <th></th>\n",
       "    </tr>\n",
       "  </thead>\n",
       "  <tbody>\n",
       "    <tr>\n",
       "      <th>2003-01-17</th>\n",
       "      <td>40.0</td>\n",
       "      <td>52.0</td>\n",
       "      <td>52.0</td>\n",
       "      <td>0.0</td>\n",
       "      <td>0.0</td>\n",
       "      <td>32.0</td>\n",
       "      <td>0.0</td>\n",
       "      <td>40.0</td>\n",
       "      <td>0.0</td>\n",
       "      <td>270.0</td>\n",
       "      <td>...</td>\n",
       "      <td>12.0</td>\n",
       "      <td>4.0</td>\n",
       "      <td>16.0</td>\n",
       "      <td>56.0</td>\n",
       "      <td>4.0</td>\n",
       "      <td>0.0</td>\n",
       "      <td>16.0</td>\n",
       "      <td>0.0</td>\n",
       "      <td>0.0</td>\n",
       "      <td>30</td>\n",
       "    </tr>\n",
       "    <tr>\n",
       "      <th>2003-01-24</th>\n",
       "      <td>46.0</td>\n",
       "      <td>44.0</td>\n",
       "      <td>56.0</td>\n",
       "      <td>0.0</td>\n",
       "      <td>0.0</td>\n",
       "      <td>8.0</td>\n",
       "      <td>0.0</td>\n",
       "      <td>0.0</td>\n",
       "      <td>0.0</td>\n",
       "      <td>459.0</td>\n",
       "      <td>...</td>\n",
       "      <td>0.0</td>\n",
       "      <td>0.0</td>\n",
       "      <td>0.0</td>\n",
       "      <td>64.0</td>\n",
       "      <td>11.0</td>\n",
       "      <td>0.0</td>\n",
       "      <td>0.0</td>\n",
       "      <td>0.0</td>\n",
       "      <td>0.0</td>\n",
       "      <td>57</td>\n",
       "    </tr>\n",
       "    <tr>\n",
       "      <th>2003-01-31</th>\n",
       "      <td>30.0</td>\n",
       "      <td>22.0</td>\n",
       "      <td>34.0</td>\n",
       "      <td>0.0</td>\n",
       "      <td>0.0</td>\n",
       "      <td>10.0</td>\n",
       "      <td>0.0</td>\n",
       "      <td>10.0</td>\n",
       "      <td>6.0</td>\n",
       "      <td>94.0</td>\n",
       "      <td>...</td>\n",
       "      <td>0.0</td>\n",
       "      <td>3.0</td>\n",
       "      <td>0.0</td>\n",
       "      <td>45.0</td>\n",
       "      <td>21.0</td>\n",
       "      <td>0.0</td>\n",
       "      <td>0.0</td>\n",
       "      <td>0.0</td>\n",
       "      <td>0.0</td>\n",
       "      <td>50</td>\n",
       "    </tr>\n",
       "    <tr>\n",
       "      <th>2003-02-07</th>\n",
       "      <td>48.0</td>\n",
       "      <td>46.0</td>\n",
       "      <td>58.0</td>\n",
       "      <td>4.0</td>\n",
       "      <td>0.0</td>\n",
       "      <td>8.0</td>\n",
       "      <td>0.0</td>\n",
       "      <td>8.0</td>\n",
       "      <td>0.0</td>\n",
       "      <td>272.0</td>\n",
       "      <td>...</td>\n",
       "      <td>0.0</td>\n",
       "      <td>4.0</td>\n",
       "      <td>0.0</td>\n",
       "      <td>85.0</td>\n",
       "      <td>20.0</td>\n",
       "      <td>0.0</td>\n",
       "      <td>0.0</td>\n",
       "      <td>0.0</td>\n",
       "      <td>0.0</td>\n",
       "      <td>68</td>\n",
       "    </tr>\n",
       "    <tr>\n",
       "      <th>2003-02-14</th>\n",
       "      <td>34.0</td>\n",
       "      <td>36.0</td>\n",
       "      <td>36.0</td>\n",
       "      <td>0.0</td>\n",
       "      <td>0.0</td>\n",
       "      <td>2.0</td>\n",
       "      <td>0.0</td>\n",
       "      <td>0.0</td>\n",
       "      <td>0.0</td>\n",
       "      <td>137.0</td>\n",
       "      <td>...</td>\n",
       "      <td>2.0</td>\n",
       "      <td>0.0</td>\n",
       "      <td>7.0</td>\n",
       "      <td>34.0</td>\n",
       "      <td>2.0</td>\n",
       "      <td>0.0</td>\n",
       "      <td>0.0</td>\n",
       "      <td>0.0</td>\n",
       "      <td>0.0</td>\n",
       "      <td>50</td>\n",
       "    </tr>\n",
       "  </tbody>\n",
       "</table>\n",
       "<p>5 rows × 310 columns</p>\n",
       "</div>"
      ],
      "text/plain": [
       "0            free_cash_flow  competitive_environment  strong_demand_bool  \\\n",
       "week_ending                                                                \n",
       "2003-01-17             40.0                     52.0                52.0   \n",
       "2003-01-24             46.0                     44.0                56.0   \n",
       "2003-01-31             30.0                     22.0                34.0   \n",
       "2003-02-07             48.0                     46.0                58.0   \n",
       "2003-02-14             34.0                     36.0                36.0   \n",
       "\n",
       "0            product_cycle  epidemic  higher_prices_bool  \\\n",
       "week_ending                                                \n",
       "2003-01-17             0.0       0.0                32.0   \n",
       "2003-01-24             0.0       0.0                 8.0   \n",
       "2003-01-31             0.0       0.0                10.0   \n",
       "2003-02-07             4.0       0.0                 8.0   \n",
       "2003-02-14             0.0       0.0                 2.0   \n",
       "\n",
       "0            government_dissatisfaction  weak_strategy_bool  \\\n",
       "week_ending                                                   \n",
       "2003-01-17                          0.0                40.0   \n",
       "2003-01-24                          0.0                 0.0   \n",
       "2003-01-31                          0.0                10.0   \n",
       "2003-02-07                          0.0                 8.0   \n",
       "2003-02-14                          0.0                 0.0   \n",
       "\n",
       "0            corporate_governance  management ...   industry_neg_headwinds  \\\n",
       "week_ending                                   ...                            \n",
       "2003-01-17                    0.0       270.0 ...                     12.0   \n",
       "2003-01-24                    0.0       459.0 ...                      0.0   \n",
       "2003-01-31                    6.0        94.0 ...                      0.0   \n",
       "2003-02-07                    0.0       272.0 ...                      0.0   \n",
       "2003-02-14                    0.0       137.0 ...                      2.0   \n",
       "\n",
       "0            management_defensiveness  industry_pos_general  \\\n",
       "week_ending                                                   \n",
       "2003-01-17                        4.0                  16.0   \n",
       "2003-01-24                        0.0                   0.0   \n",
       "2003-01-31                        3.0                   0.0   \n",
       "2003-02-07                        4.0                   0.0   \n",
       "2003-02-14                        0.0                   7.0   \n",
       "\n",
       "0            finance_neg_revenue_down  industry_neg_demand_unstable  \\\n",
       "week_ending                                                           \n",
       "2003-01-17                       56.0                           4.0   \n",
       "2003-01-24                       64.0                          11.0   \n",
       "2003-01-31                       45.0                          21.0   \n",
       "2003-02-07                       85.0                          20.0   \n",
       "2003-02-14                       34.0                           2.0   \n",
       "\n",
       "0            economy_neg_yield_curve_inverting  management_buzz_growth  \\\n",
       "week_ending                                                              \n",
       "2003-01-17                                 0.0                    16.0   \n",
       "2003-01-24                                 0.0                     0.0   \n",
       "2003-01-31                                 0.0                     0.0   \n",
       "2003-02-07                                 0.0                     0.0   \n",
       "2003-02-14                                 0.0                     0.0   \n",
       "\n",
       "0            industry_specific_ltip_drivers  industry_neg_margin_larger  one  \n",
       "week_ending                                                                   \n",
       "2003-01-17                              0.0                         0.0   30  \n",
       "2003-01-24                              0.0                         0.0   57  \n",
       "2003-01-31                              0.0                         0.0   50  \n",
       "2003-02-07                              0.0                         0.0   68  \n",
       "2003-02-14                              0.0                         0.0   50  \n",
       "\n",
       "[5 rows x 310 columns]"
      ]
     },
     "execution_count": 8,
     "metadata": {},
     "output_type": "execute_result"
    }
   ],
   "source": [
    "final_df.head()"
   ]
  },
  {
   "cell_type": "code",
   "execution_count": 9,
   "metadata": {},
   "outputs": [],
   "source": [
    "# dropping the index i.e. week_ending "
   ]
  },
  {
   "cell_type": "code",
   "execution_count": 10,
   "metadata": {},
   "outputs": [],
   "source": [
    "final_df.reset_index(inplace=True)"
   ]
  },
  {
   "cell_type": "code",
   "execution_count": 11,
   "metadata": {},
   "outputs": [],
   "source": [
    "# re-aggregating by week_ending and summing up all the text features"
   ]
  },
  {
   "cell_type": "code",
   "execution_count": 12,
   "metadata": {},
   "outputs": [],
   "source": [
    "df_final = pd.DataFrame(final_df.groupby('week_ending').sum())"
   ]
  },
  {
   "cell_type": "code",
   "execution_count": 13,
   "metadata": {},
   "outputs": [],
   "source": [
    "# final number of rows"
   ]
  },
  {
   "cell_type": "code",
   "execution_count": 14,
   "metadata": {},
   "outputs": [
    {
     "data": {
      "text/plain": [
       "808"
      ]
     },
     "execution_count": 14,
     "metadata": {},
     "output_type": "execute_result"
    }
   ],
   "source": [
    "len(df_final)"
   ]
  },
  {
   "cell_type": "code",
   "execution_count": 15,
   "metadata": {},
   "outputs": [],
   "source": [
    "# saving results to csv"
   ]
  },
  {
   "cell_type": "code",
   "execution_count": 16,
   "metadata": {},
   "outputs": [],
   "source": [
    "df_final.to_csv('Processed_Stage1.csv')"
   ]
  }
 ],
 "metadata": {
  "kernelspec": {
   "display_name": "Python 3",
   "language": "python",
   "name": "python3"
  },
  "language_info": {
   "codemirror_mode": {
    "name": "ipython",
    "version": 3
   },
   "file_extension": ".py",
   "mimetype": "text/x-python",
   "name": "python",
   "nbconvert_exporter": "python",
   "pygments_lexer": "ipython3",
   "version": "3.7.1"
  }
 },
 "nbformat": 4,
 "nbformat_minor": 2
}
