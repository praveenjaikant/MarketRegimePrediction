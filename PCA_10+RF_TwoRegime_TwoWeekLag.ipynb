{
 "cells": [
  {
   "cell_type": "code",
   "execution_count": 1,
   "metadata": {},
   "outputs": [],
   "source": [
    "import pandas as pd\n",
    "import numpy as np\n",
    "import matplotlib.pyplot as plt\n",
    "import seaborn as sns\n",
    "from sklearn.linear_model import LogisticRegression\n",
    "from sklearn.ensemble import RandomForestClassifier\n",
    "from sklearn.model_selection import train_test_split\n",
    "from sklearn import metrics\n",
    "from sklearn.model_selection import GridSearchCV\n",
    "from sklearn.decomposition import PCA"
   ]
  },
  {
   "cell_type": "code",
   "execution_count": 2,
   "metadata": {},
   "outputs": [],
   "source": [
    "df_final = pd.read_csv('modelling_dataset_final.csv')\n",
    "y=df_final.two_factor_regimes"
   ]
  },
  {
   "cell_type": "code",
   "execution_count": 3,
   "metadata": {},
   "outputs": [
    {
     "data": {
      "text/html": [
       "<div>\n",
       "<style scoped>\n",
       "    .dataframe tbody tr th:only-of-type {\n",
       "        vertical-align: middle;\n",
       "    }\n",
       "\n",
       "    .dataframe tbody tr th {\n",
       "        vertical-align: top;\n",
       "    }\n",
       "\n",
       "    .dataframe thead th {\n",
       "        text-align: right;\n",
       "    }\n",
       "</style>\n",
       "<table border=\"1\" class=\"dataframe\">\n",
       "  <thead>\n",
       "    <tr style=\"text-align: right;\">\n",
       "      <th></th>\n",
       "      <th>free_cash_flow_t-2</th>\n",
       "      <th>competitive_environment_t-2</th>\n",
       "      <th>strong_demand_bool_t-2</th>\n",
       "      <th>product_cycle_t-2</th>\n",
       "      <th>epidemic_t-2</th>\n",
       "      <th>higher_prices_bool_t-2</th>\n",
       "      <th>government_dissatisfaction_t-2</th>\n",
       "      <th>weak_strategy_bool_t-2</th>\n",
       "      <th>corporate_governance_t-2</th>\n",
       "      <th>management_t-2</th>\n",
       "      <th>...</th>\n",
       "      <th>equipment_failure_t-2</th>\n",
       "      <th>industry_neg_headwinds_t-2</th>\n",
       "      <th>management_defensiveness_t-2</th>\n",
       "      <th>industry_pos_general_t-2</th>\n",
       "      <th>finance_neg_revenue_down_t-2</th>\n",
       "      <th>industry_neg_demand_unstable_t-2</th>\n",
       "      <th>economy_neg_yield_curve_inverting_t-2</th>\n",
       "      <th>management_buzz_growth_t-2</th>\n",
       "      <th>industry_specific_ltip_drivers_t-2</th>\n",
       "      <th>industry_neg_margin_larger_t-2</th>\n",
       "    </tr>\n",
       "  </thead>\n",
       "  <tbody>\n",
       "    <tr>\n",
       "      <th>2</th>\n",
       "      <td>24.0</td>\n",
       "      <td>0.0</td>\n",
       "      <td>8.0</td>\n",
       "      <td>0.0</td>\n",
       "      <td>0.0</td>\n",
       "      <td>0.0</td>\n",
       "      <td>0.0</td>\n",
       "      <td>0.0</td>\n",
       "      <td>0.0</td>\n",
       "      <td>52.0</td>\n",
       "      <td>...</td>\n",
       "      <td>0.0</td>\n",
       "      <td>0.0</td>\n",
       "      <td>12.0</td>\n",
       "      <td>0.0</td>\n",
       "      <td>8.0</td>\n",
       "      <td>0.0</td>\n",
       "      <td>0.0</td>\n",
       "      <td>0.0</td>\n",
       "      <td>0.0</td>\n",
       "      <td>0.0</td>\n",
       "    </tr>\n",
       "    <tr>\n",
       "      <th>3</th>\n",
       "      <td>0.0</td>\n",
       "      <td>0.0</td>\n",
       "      <td>40.0</td>\n",
       "      <td>0.0</td>\n",
       "      <td>0.0</td>\n",
       "      <td>0.0</td>\n",
       "      <td>0.0</td>\n",
       "      <td>0.0</td>\n",
       "      <td>0.0</td>\n",
       "      <td>8.0</td>\n",
       "      <td>...</td>\n",
       "      <td>0.0</td>\n",
       "      <td>0.0</td>\n",
       "      <td>0.0</td>\n",
       "      <td>0.0</td>\n",
       "      <td>4.0</td>\n",
       "      <td>0.0</td>\n",
       "      <td>0.0</td>\n",
       "      <td>0.0</td>\n",
       "      <td>0.0</td>\n",
       "      <td>0.0</td>\n",
       "    </tr>\n",
       "    <tr>\n",
       "      <th>4</th>\n",
       "      <td>16.0</td>\n",
       "      <td>0.0</td>\n",
       "      <td>24.0</td>\n",
       "      <td>0.0</td>\n",
       "      <td>0.0</td>\n",
       "      <td>0.0</td>\n",
       "      <td>0.0</td>\n",
       "      <td>0.0</td>\n",
       "      <td>0.0</td>\n",
       "      <td>12.0</td>\n",
       "      <td>...</td>\n",
       "      <td>0.0</td>\n",
       "      <td>0.0</td>\n",
       "      <td>0.0</td>\n",
       "      <td>0.0</td>\n",
       "      <td>4.0</td>\n",
       "      <td>0.0</td>\n",
       "      <td>0.0</td>\n",
       "      <td>0.0</td>\n",
       "      <td>0.0</td>\n",
       "      <td>0.0</td>\n",
       "    </tr>\n",
       "    <tr>\n",
       "      <th>5</th>\n",
       "      <td>0.0</td>\n",
       "      <td>0.0</td>\n",
       "      <td>24.0</td>\n",
       "      <td>0.0</td>\n",
       "      <td>0.0</td>\n",
       "      <td>16.0</td>\n",
       "      <td>0.0</td>\n",
       "      <td>0.0</td>\n",
       "      <td>0.0</td>\n",
       "      <td>0.0</td>\n",
       "      <td>...</td>\n",
       "      <td>0.0</td>\n",
       "      <td>0.0</td>\n",
       "      <td>0.0</td>\n",
       "      <td>0.0</td>\n",
       "      <td>0.0</td>\n",
       "      <td>0.0</td>\n",
       "      <td>0.0</td>\n",
       "      <td>0.0</td>\n",
       "      <td>0.0</td>\n",
       "      <td>0.0</td>\n",
       "    </tr>\n",
       "    <tr>\n",
       "      <th>6</th>\n",
       "      <td>0.0</td>\n",
       "      <td>16.0</td>\n",
       "      <td>16.0</td>\n",
       "      <td>0.0</td>\n",
       "      <td>0.0</td>\n",
       "      <td>0.0</td>\n",
       "      <td>0.0</td>\n",
       "      <td>0.0</td>\n",
       "      <td>0.0</td>\n",
       "      <td>16.0</td>\n",
       "      <td>...</td>\n",
       "      <td>0.0</td>\n",
       "      <td>0.0</td>\n",
       "      <td>0.0</td>\n",
       "      <td>0.0</td>\n",
       "      <td>8.0</td>\n",
       "      <td>0.0</td>\n",
       "      <td>0.0</td>\n",
       "      <td>0.0</td>\n",
       "      <td>0.0</td>\n",
       "      <td>0.0</td>\n",
       "    </tr>\n",
       "  </tbody>\n",
       "</table>\n",
       "<p>5 rows × 309 columns</p>\n",
       "</div>"
      ],
      "text/plain": [
       "   free_cash_flow_t-2  competitive_environment_t-2  strong_demand_bool_t-2  \\\n",
       "2                24.0                          0.0                     8.0   \n",
       "3                 0.0                          0.0                    40.0   \n",
       "4                16.0                          0.0                    24.0   \n",
       "5                 0.0                          0.0                    24.0   \n",
       "6                 0.0                         16.0                    16.0   \n",
       "\n",
       "   product_cycle_t-2  epidemic_t-2  higher_prices_bool_t-2  \\\n",
       "2                0.0           0.0                     0.0   \n",
       "3                0.0           0.0                     0.0   \n",
       "4                0.0           0.0                     0.0   \n",
       "5                0.0           0.0                    16.0   \n",
       "6                0.0           0.0                     0.0   \n",
       "\n",
       "   government_dissatisfaction_t-2  weak_strategy_bool_t-2  \\\n",
       "2                             0.0                     0.0   \n",
       "3                             0.0                     0.0   \n",
       "4                             0.0                     0.0   \n",
       "5                             0.0                     0.0   \n",
       "6                             0.0                     0.0   \n",
       "\n",
       "   corporate_governance_t-2  management_t-2               ...                \\\n",
       "2                       0.0            52.0               ...                 \n",
       "3                       0.0             8.0               ...                 \n",
       "4                       0.0            12.0               ...                 \n",
       "5                       0.0             0.0               ...                 \n",
       "6                       0.0            16.0               ...                 \n",
       "\n",
       "   equipment_failure_t-2  industry_neg_headwinds_t-2  \\\n",
       "2                    0.0                         0.0   \n",
       "3                    0.0                         0.0   \n",
       "4                    0.0                         0.0   \n",
       "5                    0.0                         0.0   \n",
       "6                    0.0                         0.0   \n",
       "\n",
       "   management_defensiveness_t-2  industry_pos_general_t-2  \\\n",
       "2                          12.0                       0.0   \n",
       "3                           0.0                       0.0   \n",
       "4                           0.0                       0.0   \n",
       "5                           0.0                       0.0   \n",
       "6                           0.0                       0.0   \n",
       "\n",
       "   finance_neg_revenue_down_t-2  industry_neg_demand_unstable_t-2  \\\n",
       "2                           8.0                               0.0   \n",
       "3                           4.0                               0.0   \n",
       "4                           4.0                               0.0   \n",
       "5                           0.0                               0.0   \n",
       "6                           8.0                               0.0   \n",
       "\n",
       "   economy_neg_yield_curve_inverting_t-2  management_buzz_growth_t-2  \\\n",
       "2                                    0.0                         0.0   \n",
       "3                                    0.0                         0.0   \n",
       "4                                    0.0                         0.0   \n",
       "5                                    0.0                         0.0   \n",
       "6                                    0.0                         0.0   \n",
       "\n",
       "   industry_specific_ltip_drivers_t-2  industry_neg_margin_larger_t-2  \n",
       "2                                 0.0                             0.0  \n",
       "3                                 0.0                             0.0  \n",
       "4                                 0.0                             0.0  \n",
       "5                                 0.0                             0.0  \n",
       "6                                 0.0                             0.0  \n",
       "\n",
       "[5 rows x 309 columns]"
      ]
     },
     "execution_count": 3,
     "metadata": {},
     "output_type": "execute_result"
    }
   ],
   "source": [
    "df_final = df_final.iloc[:,2:-5]\n",
    "\n",
    "df_t_minus_2 = df_final.shift(2)\n",
    "df_t_minus_2.columns = [str(col) + '_t-2' for col in df_t_minus_2.columns]\n",
    "\n",
    "X = df_t_minus_2\n",
    "X = X.iloc[2:]\n",
    "y = y.iloc[2:]\n",
    "X.head()"
   ]
  },
  {
   "cell_type": "code",
   "execution_count": 4,
   "metadata": {},
   "outputs": [
    {
     "data": {
      "text/plain": [
       "806"
      ]
     },
     "execution_count": 4,
     "metadata": {},
     "output_type": "execute_result"
    }
   ],
   "source": [
    "len(X)"
   ]
  },
  {
   "cell_type": "code",
   "execution_count": 5,
   "metadata": {},
   "outputs": [
    {
     "data": {
      "text/plain": [
       "806"
      ]
     },
     "execution_count": 5,
     "metadata": {},
     "output_type": "execute_result"
    }
   ],
   "source": [
    "len(y)"
   ]
  },
  {
   "cell_type": "code",
   "execution_count": 6,
   "metadata": {},
   "outputs": [],
   "source": [
    "pca = PCA(n_components=10)\n",
    "pca.fit(X)\n",
    "X_reduced = pca.transform(X)\n",
    "X_train, X_test, y_train, y_test = train_test_split(X_reduced,y,test_size=.3,random_state=168)"
   ]
  },
  {
   "cell_type": "code",
   "execution_count": 7,
   "metadata": {},
   "outputs": [],
   "source": [
    "# define a function to show model performance\n",
    "def show_result(y_test,predicted):\n",
    "    '''show all results from the model, takes y_test and predicted Y value'''\n",
    "    print(metrics.classification_report(y_test,predicted))\n",
    "    print(\"Accuracy: {0:.2f}\".format(metrics.accuracy_score(y_test, predicted)))\n",
    "    print(\"confusion matrix: \\n\\n\",metrics.confusion_matrix(y_test, predicted))\n",
    "\n",
    "# define a function to plot ROC with auc\n",
    "def plot_ROC(y_test,predicted_prob):\n",
    "    '''plot ROC curve with auc, takes y_test and predicted probability for Y=1'''\n",
    "    fpr, tpr, thresholds = metrics.roc_curve(y_test, predicted_prob)\n",
    "    roc_auc = metrics.auc(fpr, tpr)\n",
    "    # Plot the ROC curve\n",
    "    plt.plot(fpr,tpr,'b',label = 'AUC = %.2f' %roc_auc)\n",
    "    plt.xlabel(\"False Positive Rate\")\n",
    "    plt.ylabel(\"True Positive Rate\")\n",
    "    plt.legend(loc = 'lower right')\n",
    "    plt.title('ROC Curve')\n",
    "    plt.plot([0, 1], [0, 1], \"k--\")\n",
    "    plt.xlim([0, 1]);plt.ylim([0, 1])\n",
    "    plt.show()"
   ]
  },
  {
   "cell_type": "code",
   "execution_count": 8,
   "metadata": {},
   "outputs": [
    {
     "data": {
      "text/plain": [
       "{'max_depth': 10, 'min_samples_leaf': 2, 'n_estimators': 100}"
      ]
     },
     "execution_count": 8,
     "metadata": {},
     "output_type": "execute_result"
    }
   ],
   "source": [
    "# Hyper parameter tuning\n",
    "param_grid = {'min_samples_leaf': [2,3],'max_depth': [10,11,12,13], 'n_estimators':[100,200,250]}\n",
    "model = RandomForestClassifier(random_state=168)\n",
    "CV_model = GridSearchCV(estimator=model, param_grid=param_grid, cv=3, scoring='roc_auc')\n",
    "CV_model.fit(X_train, y_train)\n",
    "CV_model.best_params_"
   ]
  },
  {
   "cell_type": "code",
   "execution_count": 9,
   "metadata": {},
   "outputs": [
    {
     "name": "stdout",
     "output_type": "stream",
     "text": [
      "              precision    recall  f1-score   support\n",
      "\n",
      "         0.0       0.73      0.95      0.83       165\n",
      "         1.0       0.71      0.26      0.38        77\n",
      "\n",
      "   micro avg       0.73      0.73      0.73       242\n",
      "   macro avg       0.72      0.61      0.60       242\n",
      "weighted avg       0.73      0.73      0.69       242\n",
      "\n",
      "Accuracy: 0.73\n",
      "confusion matrix: \n",
      "\n",
      " [[157   8]\n",
      " [ 57  20]]\n"
     ]
    },
    {
     "data": {
      "image/png": "[encoded data removed]",
      "text/plain": [
       "<Figure size 432x288 with 1 Axes>"
      ]
     },
     "metadata": {
      "needs_background": "light"
     },
     "output_type": "display_data"
    }
   ],
   "source": [
    "# n=10\n",
    "model = RandomForestClassifier(random_state=168,max_depth= 10, n_estimators= 100,min_samples_leaf=2)\n",
    "\n",
    "# Fit your pipeline onto your training set and obtain predictions by fitting the model onto the test data \n",
    "model.fit(X_train, y_train) \n",
    "pred = model.predict(X_test)\n",
    "predicted_prob = model.predict_proba(X_test)\n",
    "\n",
    "# Select probability where Y = 1\n",
    "pred_prob = predicted_prob[:,1]\n",
    "\n",
    "# Use pre-defined function to see model performance \n",
    "show_result(y_test,pred)\n",
    "plot_ROC(y_test,pred_prob)"
   ]
  }
 ],
 "metadata": {
  "kernelspec": {
   "display_name": "Python 3",
   "language": "python",
   "name": "python3"
  },
  "language_info": {
   "codemirror_mode": {
    "name": "ipython",
    "version": 3
   },
   "file_extension": ".py",
   "mimetype": "text/x-python",
   "name": "python",
   "nbconvert_exporter": "python",
   "pygments_lexer": "ipython3",
   "version": "3.7.1"
  }
 },
 "nbformat": 4,
 "nbformat_minor": 2
}
