{
 "cells": [
  {
   "cell_type": "markdown",
   "metadata": {},
   "source": [
    "### Data Pre-Processing Logic"
   ]
  },
  {
   "cell_type": "code",
   "execution_count": 1,
   "metadata": {},
   "outputs": [],
   "source": [
    "# importing required packages\n",
    "\n",
    "import pandas as pd\n",
    "from dateutil.parser import parse\n",
    "import csv\n",
    "import numpy as np\n",
    "import psycopg2 \n",
    "from psycopg2.extras import RealDictCursor\n",
    "from pandas.tseries.offsets import *\n",
    "import warnings\n",
    "warnings.filterwarnings('ignore')"
   ]
  },
  {
   "cell_type": "code",
   "execution_count": 2,
   "metadata": {},
   "outputs": [],
   "source": [
    "# picking up where we left off, we read the pre-processed CSV\n",
    "final_df = pd.read_csv('Processed_Stage1.csv')"
   ]
  },
  {
   "cell_type": "code",
   "execution_count": 3,
   "metadata": {},
   "outputs": [
    {
     "data": {
      "text/plain": [
       "week_ending                 object\n",
       "free_cash_flow             float64\n",
       "competitive_environment    float64\n",
       "strong_demand_bool         float64\n",
       "product_cycle              float64\n",
       "dtype: object"
      ]
     },
     "execution_count": 3,
     "metadata": {},
     "output_type": "execute_result"
    }
   ],
   "source": [
    "final_df.dtypes.head()"
   ]
  },
  {
   "cell_type": "code",
   "execution_count": 4,
   "metadata": {},
   "outputs": [],
   "source": [
    "# renaming 'week_ending' column to 'date'\n",
    "final_df.rename(columns = {'week_ending':'date'}, inplace = True)\n",
    "final_df.date = pd.to_datetime(final_df.date)"
   ]
  },
  {
   "cell_type": "code",
   "execution_count": 5,
   "metadata": {},
   "outputs": [
    {
     "data": {
      "text/html": [
       "<div>\n",
       "<style scoped>\n",
       "    .dataframe tbody tr th:only-of-type {\n",
       "        vertical-align: middle;\n",
       "    }\n",
       "\n",
       "    .dataframe tbody tr th {\n",
       "        vertical-align: top;\n",
       "    }\n",
       "\n",
       "    .dataframe thead th {\n",
       "        text-align: right;\n",
       "    }\n",
       "</style>\n",
       "<table border=\"1\" class=\"dataframe\">\n",
       "  <thead>\n",
       "    <tr style=\"text-align: right;\">\n",
       "      <th></th>\n",
       "      <th>date</th>\n",
       "      <th>free_cash_flow</th>\n",
       "      <th>competitive_environment</th>\n",
       "      <th>strong_demand_bool</th>\n",
       "      <th>product_cycle</th>\n",
       "      <th>epidemic</th>\n",
       "      <th>higher_prices_bool</th>\n",
       "      <th>government_dissatisfaction</th>\n",
       "      <th>weak_strategy_bool</th>\n",
       "      <th>corporate_governance</th>\n",
       "      <th>...</th>\n",
       "      <th>industry_neg_headwinds</th>\n",
       "      <th>management_defensiveness</th>\n",
       "      <th>industry_pos_general</th>\n",
       "      <th>finance_neg_revenue_down</th>\n",
       "      <th>industry_neg_demand_unstable</th>\n",
       "      <th>economy_neg_yield_curve_inverting</th>\n",
       "      <th>management_buzz_growth</th>\n",
       "      <th>industry_specific_ltip_drivers</th>\n",
       "      <th>industry_neg_margin_larger</th>\n",
       "      <th>one</th>\n",
       "    </tr>\n",
       "  </thead>\n",
       "  <tbody>\n",
       "    <tr>\n",
       "      <th>0</th>\n",
       "      <td>1999-04-23</td>\n",
       "      <td>24.0</td>\n",
       "      <td>0.0</td>\n",
       "      <td>8.0</td>\n",
       "      <td>0.0</td>\n",
       "      <td>0.0</td>\n",
       "      <td>0.0</td>\n",
       "      <td>0.0</td>\n",
       "      <td>0.0</td>\n",
       "      <td>0.0</td>\n",
       "      <td>...</td>\n",
       "      <td>0.0</td>\n",
       "      <td>12.0</td>\n",
       "      <td>0.0</td>\n",
       "      <td>8.0</td>\n",
       "      <td>0.0</td>\n",
       "      <td>0.0</td>\n",
       "      <td>0.0</td>\n",
       "      <td>0.0</td>\n",
       "      <td>0.0</td>\n",
       "      <td>36</td>\n",
       "    </tr>\n",
       "    <tr>\n",
       "      <th>1</th>\n",
       "      <td>1999-07-23</td>\n",
       "      <td>0.0</td>\n",
       "      <td>0.0</td>\n",
       "      <td>40.0</td>\n",
       "      <td>0.0</td>\n",
       "      <td>0.0</td>\n",
       "      <td>0.0</td>\n",
       "      <td>0.0</td>\n",
       "      <td>0.0</td>\n",
       "      <td>0.0</td>\n",
       "      <td>...</td>\n",
       "      <td>0.0</td>\n",
       "      <td>0.0</td>\n",
       "      <td>0.0</td>\n",
       "      <td>4.0</td>\n",
       "      <td>0.0</td>\n",
       "      <td>0.0</td>\n",
       "      <td>0.0</td>\n",
       "      <td>0.0</td>\n",
       "      <td>0.0</td>\n",
       "      <td>24</td>\n",
       "    </tr>\n",
       "    <tr>\n",
       "      <th>2</th>\n",
       "      <td>1999-10-22</td>\n",
       "      <td>16.0</td>\n",
       "      <td>0.0</td>\n",
       "      <td>24.0</td>\n",
       "      <td>0.0</td>\n",
       "      <td>0.0</td>\n",
       "      <td>0.0</td>\n",
       "      <td>0.0</td>\n",
       "      <td>0.0</td>\n",
       "      <td>0.0</td>\n",
       "      <td>...</td>\n",
       "      <td>0.0</td>\n",
       "      <td>0.0</td>\n",
       "      <td>0.0</td>\n",
       "      <td>4.0</td>\n",
       "      <td>0.0</td>\n",
       "      <td>0.0</td>\n",
       "      <td>0.0</td>\n",
       "      <td>0.0</td>\n",
       "      <td>0.0</td>\n",
       "      <td>38</td>\n",
       "    </tr>\n",
       "    <tr>\n",
       "      <th>3</th>\n",
       "      <td>2000-04-28</td>\n",
       "      <td>0.0</td>\n",
       "      <td>0.0</td>\n",
       "      <td>24.0</td>\n",
       "      <td>0.0</td>\n",
       "      <td>0.0</td>\n",
       "      <td>16.0</td>\n",
       "      <td>0.0</td>\n",
       "      <td>0.0</td>\n",
       "      <td>0.0</td>\n",
       "      <td>...</td>\n",
       "      <td>0.0</td>\n",
       "      <td>0.0</td>\n",
       "      <td>0.0</td>\n",
       "      <td>0.0</td>\n",
       "      <td>0.0</td>\n",
       "      <td>0.0</td>\n",
       "      <td>0.0</td>\n",
       "      <td>0.0</td>\n",
       "      <td>0.0</td>\n",
       "      <td>36</td>\n",
       "    </tr>\n",
       "    <tr>\n",
       "      <th>4</th>\n",
       "      <td>2000-07-28</td>\n",
       "      <td>0.0</td>\n",
       "      <td>16.0</td>\n",
       "      <td>16.0</td>\n",
       "      <td>0.0</td>\n",
       "      <td>0.0</td>\n",
       "      <td>0.0</td>\n",
       "      <td>0.0</td>\n",
       "      <td>0.0</td>\n",
       "      <td>0.0</td>\n",
       "      <td>...</td>\n",
       "      <td>0.0</td>\n",
       "      <td>0.0</td>\n",
       "      <td>0.0</td>\n",
       "      <td>8.0</td>\n",
       "      <td>0.0</td>\n",
       "      <td>0.0</td>\n",
       "      <td>0.0</td>\n",
       "      <td>0.0</td>\n",
       "      <td>0.0</td>\n",
       "      <td>20</td>\n",
       "    </tr>\n",
       "  </tbody>\n",
       "</table>\n",
       "<p>5 rows × 311 columns</p>\n",
       "</div>"
      ],
      "text/plain": [
       "        date  free_cash_flow  competitive_environment  strong_demand_bool  \\\n",
       "0 1999-04-23            24.0                      0.0                 8.0   \n",
       "1 1999-07-23             0.0                      0.0                40.0   \n",
       "2 1999-10-22            16.0                      0.0                24.0   \n",
       "3 2000-04-28             0.0                      0.0                24.0   \n",
       "4 2000-07-28             0.0                     16.0                16.0   \n",
       "\n",
       "   product_cycle  epidemic  higher_prices_bool  government_dissatisfaction  \\\n",
       "0            0.0       0.0                 0.0                         0.0   \n",
       "1            0.0       0.0                 0.0                         0.0   \n",
       "2            0.0       0.0                 0.0                         0.0   \n",
       "3            0.0       0.0                16.0                         0.0   \n",
       "4            0.0       0.0                 0.0                         0.0   \n",
       "\n",
       "   weak_strategy_bool  corporate_governance  ...  industry_neg_headwinds  \\\n",
       "0                 0.0                   0.0  ...                     0.0   \n",
       "1                 0.0                   0.0  ...                     0.0   \n",
       "2                 0.0                   0.0  ...                     0.0   \n",
       "3                 0.0                   0.0  ...                     0.0   \n",
       "4                 0.0                   0.0  ...                     0.0   \n",
       "\n",
       "   management_defensiveness  industry_pos_general  finance_neg_revenue_down  \\\n",
       "0                      12.0                   0.0                       8.0   \n",
       "1                       0.0                   0.0                       4.0   \n",
       "2                       0.0                   0.0                       4.0   \n",
       "3                       0.0                   0.0                       0.0   \n",
       "4                       0.0                   0.0                       8.0   \n",
       "\n",
       "   industry_neg_demand_unstable  economy_neg_yield_curve_inverting  \\\n",
       "0                           0.0                                0.0   \n",
       "1                           0.0                                0.0   \n",
       "2                           0.0                                0.0   \n",
       "3                           0.0                                0.0   \n",
       "4                           0.0                                0.0   \n",
       "\n",
       "   management_buzz_growth  industry_specific_ltip_drivers  \\\n",
       "0                     0.0                             0.0   \n",
       "1                     0.0                             0.0   \n",
       "2                     0.0                             0.0   \n",
       "3                     0.0                             0.0   \n",
       "4                     0.0                             0.0   \n",
       "\n",
       "   industry_neg_margin_larger  one  \n",
       "0                         0.0   36  \n",
       "1                         0.0   24  \n",
       "2                         0.0   38  \n",
       "3                         0.0   36  \n",
       "4                         0.0   20  \n",
       "\n",
       "[5 rows x 311 columns]"
      ]
     },
     "execution_count": 5,
     "metadata": {},
     "output_type": "execute_result"
    }
   ],
   "source": [
    "final_df.head()"
   ]
  },
  {
   "cell_type": "code",
   "execution_count": 6,
   "metadata": {},
   "outputs": [
    {
     "data": {
      "text/plain": [
       "datetime.date(1999, 4, 23)"
      ]
     },
     "execution_count": 6,
     "metadata": {},
     "output_type": "execute_result"
    }
   ],
   "source": [
    "# looking at earliest date on X data\n",
    "np.min(final_df.date).date()"
   ]
  },
  {
   "cell_type": "code",
   "execution_count": 7,
   "metadata": {},
   "outputs": [
    {
     "data": {
      "text/plain": [
       "datetime.date(2018, 4, 6)"
      ]
     },
     "execution_count": 7,
     "metadata": {},
     "output_type": "execute_result"
    }
   ],
   "source": [
    "# looking at latest date on X data\n",
    "np.max(final_df.date).date()"
   ]
  },
  {
   "cell_type": "markdown",
   "metadata": {},
   "source": [
    "### Regime Data"
   ]
  },
  {
   "cell_type": "code",
   "execution_count": 8,
   "metadata": {},
   "outputs": [],
   "source": [
    "# reading in the y data\n",
    "df_regime = pd.read_csv('regime.csv')\n",
    "df_regime = df_regime[['date','mkt_ret_regimes','three_factor_regimes']]\n",
    "df_regime.date = pd.to_datetime(df_regime.date)"
   ]
  },
  {
   "cell_type": "code",
   "execution_count": 9,
   "metadata": {},
   "outputs": [
    {
     "data": {
      "text/html": [
       "<div>\n",
       "<style scoped>\n",
       "    .dataframe tbody tr th:only-of-type {\n",
       "        vertical-align: middle;\n",
       "    }\n",
       "\n",
       "    .dataframe tbody tr th {\n",
       "        vertical-align: top;\n",
       "    }\n",
       "\n",
       "    .dataframe thead th {\n",
       "        text-align: right;\n",
       "    }\n",
       "</style>\n",
       "<table border=\"1\" class=\"dataframe\">\n",
       "  <thead>\n",
       "    <tr style=\"text-align: right;\">\n",
       "      <th></th>\n",
       "      <th>date</th>\n",
       "      <th>mkt_ret_regimes</th>\n",
       "      <th>three_factor_regimes</th>\n",
       "    </tr>\n",
       "  </thead>\n",
       "  <tbody>\n",
       "    <tr>\n",
       "      <th>0</th>\n",
       "      <td>1990-02-02</td>\n",
       "      <td>0</td>\n",
       "      <td>1</td>\n",
       "    </tr>\n",
       "    <tr>\n",
       "      <th>1</th>\n",
       "      <td>1990-02-09</td>\n",
       "      <td>0</td>\n",
       "      <td>1</td>\n",
       "    </tr>\n",
       "    <tr>\n",
       "      <th>2</th>\n",
       "      <td>1990-02-16</td>\n",
       "      <td>0</td>\n",
       "      <td>1</td>\n",
       "    </tr>\n",
       "    <tr>\n",
       "      <th>3</th>\n",
       "      <td>1990-02-23</td>\n",
       "      <td>0</td>\n",
       "      <td>1</td>\n",
       "    </tr>\n",
       "    <tr>\n",
       "      <th>4</th>\n",
       "      <td>1990-03-02</td>\n",
       "      <td>0</td>\n",
       "      <td>1</td>\n",
       "    </tr>\n",
       "  </tbody>\n",
       "</table>\n",
       "</div>"
      ],
      "text/plain": [
       "        date  mkt_ret_regimes  three_factor_regimes\n",
       "0 1990-02-02                0                     1\n",
       "1 1990-02-09                0                     1\n",
       "2 1990-02-16                0                     1\n",
       "3 1990-02-23                0                     1\n",
       "4 1990-03-02                0                     1"
      ]
     },
     "execution_count": 9,
     "metadata": {},
     "output_type": "execute_result"
    }
   ],
   "source": [
    "df_regime.head()"
   ]
  },
  {
   "cell_type": "code",
   "execution_count": 10,
   "metadata": {},
   "outputs": [
    {
     "data": {
      "text/plain": [
       "datetime.date(1990, 2, 2)"
      ]
     },
     "execution_count": 10,
     "metadata": {},
     "output_type": "execute_result"
    }
   ],
   "source": [
    "# looking at earliest date on y data\n",
    "np.min(df_regime.date).date()"
   ]
  },
  {
   "cell_type": "code",
   "execution_count": 11,
   "metadata": {},
   "outputs": [
    {
     "data": {
      "text/plain": [
       "datetime.date(2018, 3, 16)"
      ]
     },
     "execution_count": 11,
     "metadata": {},
     "output_type": "execute_result"
    }
   ],
   "source": [
    "# looking at earliest date on y data\n",
    "np.max(df_regime.date).date()"
   ]
  },
  {
   "cell_type": "code",
   "execution_count": 12,
   "metadata": {},
   "outputs": [],
   "source": [
    "# excluding rows on X data so that X and y data fall within same date range \n",
    "df_regime = df_regime[(df_regime.date >= '1999-04-23') & (df_regime.date <= '2018-04-06')]"
   ]
  },
  {
   "cell_type": "code",
   "execution_count": 13,
   "metadata": {},
   "outputs": [],
   "source": [
    "# joining X and y data on date field, creating data frame that is ready for modeling\n",
    "modelling_df = pd.merge(final_df, df_regime,on='date',how='left')\n",
    "modelling_df.fillna(0, inplace=True)\n",
    "modelling_df.rename(columns = {'mkt_ret_regimes':'two_factor_regimes'}, inplace=True)"
   ]
  },
  {
   "cell_type": "code",
   "execution_count": 14,
   "metadata": {},
   "outputs": [
    {
     "data": {
      "text/html": [
       "<div>\n",
       "<style scoped>\n",
       "    .dataframe tbody tr th:only-of-type {\n",
       "        vertical-align: middle;\n",
       "    }\n",
       "\n",
       "    .dataframe tbody tr th {\n",
       "        vertical-align: top;\n",
       "    }\n",
       "\n",
       "    .dataframe thead th {\n",
       "        text-align: right;\n",
       "    }\n",
       "</style>\n",
       "<table border=\"1\" class=\"dataframe\">\n",
       "  <thead>\n",
       "    <tr style=\"text-align: right;\">\n",
       "      <th></th>\n",
       "      <th>date</th>\n",
       "      <th>free_cash_flow</th>\n",
       "      <th>competitive_environment</th>\n",
       "      <th>strong_demand_bool</th>\n",
       "      <th>product_cycle</th>\n",
       "      <th>epidemic</th>\n",
       "      <th>higher_prices_bool</th>\n",
       "      <th>government_dissatisfaction</th>\n",
       "      <th>weak_strategy_bool</th>\n",
       "      <th>corporate_governance</th>\n",
       "      <th>...</th>\n",
       "      <th>industry_pos_general</th>\n",
       "      <th>finance_neg_revenue_down</th>\n",
       "      <th>industry_neg_demand_unstable</th>\n",
       "      <th>economy_neg_yield_curve_inverting</th>\n",
       "      <th>management_buzz_growth</th>\n",
       "      <th>industry_specific_ltip_drivers</th>\n",
       "      <th>industry_neg_margin_larger</th>\n",
       "      <th>one</th>\n",
       "      <th>two_factor_regimes</th>\n",
       "      <th>three_factor_regimes</th>\n",
       "    </tr>\n",
       "  </thead>\n",
       "  <tbody>\n",
       "    <tr>\n",
       "      <th>0</th>\n",
       "      <td>1999-04-23</td>\n",
       "      <td>24.0</td>\n",
       "      <td>0.0</td>\n",
       "      <td>8.0</td>\n",
       "      <td>0.0</td>\n",
       "      <td>0.0</td>\n",
       "      <td>0.0</td>\n",
       "      <td>0.0</td>\n",
       "      <td>0.0</td>\n",
       "      <td>0.0</td>\n",
       "      <td>...</td>\n",
       "      <td>0.0</td>\n",
       "      <td>8.0</td>\n",
       "      <td>0.0</td>\n",
       "      <td>0.0</td>\n",
       "      <td>0.0</td>\n",
       "      <td>0.0</td>\n",
       "      <td>0.0</td>\n",
       "      <td>36</td>\n",
       "      <td>0.0</td>\n",
       "      <td>0.0</td>\n",
       "    </tr>\n",
       "    <tr>\n",
       "      <th>1</th>\n",
       "      <td>1999-07-23</td>\n",
       "      <td>0.0</td>\n",
       "      <td>0.0</td>\n",
       "      <td>40.0</td>\n",
       "      <td>0.0</td>\n",
       "      <td>0.0</td>\n",
       "      <td>0.0</td>\n",
       "      <td>0.0</td>\n",
       "      <td>0.0</td>\n",
       "      <td>0.0</td>\n",
       "      <td>...</td>\n",
       "      <td>0.0</td>\n",
       "      <td>4.0</td>\n",
       "      <td>0.0</td>\n",
       "      <td>0.0</td>\n",
       "      <td>0.0</td>\n",
       "      <td>0.0</td>\n",
       "      <td>0.0</td>\n",
       "      <td>24</td>\n",
       "      <td>0.0</td>\n",
       "      <td>1.0</td>\n",
       "    </tr>\n",
       "    <tr>\n",
       "      <th>2</th>\n",
       "      <td>1999-10-22</td>\n",
       "      <td>16.0</td>\n",
       "      <td>0.0</td>\n",
       "      <td>24.0</td>\n",
       "      <td>0.0</td>\n",
       "      <td>0.0</td>\n",
       "      <td>0.0</td>\n",
       "      <td>0.0</td>\n",
       "      <td>0.0</td>\n",
       "      <td>0.0</td>\n",
       "      <td>...</td>\n",
       "      <td>0.0</td>\n",
       "      <td>4.0</td>\n",
       "      <td>0.0</td>\n",
       "      <td>0.0</td>\n",
       "      <td>0.0</td>\n",
       "      <td>0.0</td>\n",
       "      <td>0.0</td>\n",
       "      <td>38</td>\n",
       "      <td>1.0</td>\n",
       "      <td>0.0</td>\n",
       "    </tr>\n",
       "    <tr>\n",
       "      <th>3</th>\n",
       "      <td>2000-04-28</td>\n",
       "      <td>0.0</td>\n",
       "      <td>0.0</td>\n",
       "      <td>24.0</td>\n",
       "      <td>0.0</td>\n",
       "      <td>0.0</td>\n",
       "      <td>16.0</td>\n",
       "      <td>0.0</td>\n",
       "      <td>0.0</td>\n",
       "      <td>0.0</td>\n",
       "      <td>...</td>\n",
       "      <td>0.0</td>\n",
       "      <td>0.0</td>\n",
       "      <td>0.0</td>\n",
       "      <td>0.0</td>\n",
       "      <td>0.0</td>\n",
       "      <td>0.0</td>\n",
       "      <td>0.0</td>\n",
       "      <td>36</td>\n",
       "      <td>1.0</td>\n",
       "      <td>0.0</td>\n",
       "    </tr>\n",
       "    <tr>\n",
       "      <th>4</th>\n",
       "      <td>2000-07-28</td>\n",
       "      <td>0.0</td>\n",
       "      <td>16.0</td>\n",
       "      <td>16.0</td>\n",
       "      <td>0.0</td>\n",
       "      <td>0.0</td>\n",
       "      <td>0.0</td>\n",
       "      <td>0.0</td>\n",
       "      <td>0.0</td>\n",
       "      <td>0.0</td>\n",
       "      <td>...</td>\n",
       "      <td>0.0</td>\n",
       "      <td>8.0</td>\n",
       "      <td>0.0</td>\n",
       "      <td>0.0</td>\n",
       "      <td>0.0</td>\n",
       "      <td>0.0</td>\n",
       "      <td>0.0</td>\n",
       "      <td>20</td>\n",
       "      <td>1.0</td>\n",
       "      <td>1.0</td>\n",
       "    </tr>\n",
       "  </tbody>\n",
       "</table>\n",
       "<p>5 rows × 313 columns</p>\n",
       "</div>"
      ],
      "text/plain": [
       "        date  free_cash_flow  competitive_environment  strong_demand_bool  \\\n",
       "0 1999-04-23            24.0                      0.0                 8.0   \n",
       "1 1999-07-23             0.0                      0.0                40.0   \n",
       "2 1999-10-22            16.0                      0.0                24.0   \n",
       "3 2000-04-28             0.0                      0.0                24.0   \n",
       "4 2000-07-28             0.0                     16.0                16.0   \n",
       "\n",
       "   product_cycle  epidemic  higher_prices_bool  government_dissatisfaction  \\\n",
       "0            0.0       0.0                 0.0                         0.0   \n",
       "1            0.0       0.0                 0.0                         0.0   \n",
       "2            0.0       0.0                 0.0                         0.0   \n",
       "3            0.0       0.0                16.0                         0.0   \n",
       "4            0.0       0.0                 0.0                         0.0   \n",
       "\n",
       "   weak_strategy_bool  corporate_governance  ...  industry_pos_general  \\\n",
       "0                 0.0                   0.0  ...                   0.0   \n",
       "1                 0.0                   0.0  ...                   0.0   \n",
       "2                 0.0                   0.0  ...                   0.0   \n",
       "3                 0.0                   0.0  ...                   0.0   \n",
       "4                 0.0                   0.0  ...                   0.0   \n",
       "\n",
       "   finance_neg_revenue_down  industry_neg_demand_unstable  \\\n",
       "0                       8.0                           0.0   \n",
       "1                       4.0                           0.0   \n",
       "2                       4.0                           0.0   \n",
       "3                       0.0                           0.0   \n",
       "4                       8.0                           0.0   \n",
       "\n",
       "   economy_neg_yield_curve_inverting  management_buzz_growth  \\\n",
       "0                                0.0                     0.0   \n",
       "1                                0.0                     0.0   \n",
       "2                                0.0                     0.0   \n",
       "3                                0.0                     0.0   \n",
       "4                                0.0                     0.0   \n",
       "\n",
       "   industry_specific_ltip_drivers  industry_neg_margin_larger  one  \\\n",
       "0                             0.0                         0.0   36   \n",
       "1                             0.0                         0.0   24   \n",
       "2                             0.0                         0.0   38   \n",
       "3                             0.0                         0.0   36   \n",
       "4                             0.0                         0.0   20   \n",
       "\n",
       "   two_factor_regimes  three_factor_regimes  \n",
       "0                 0.0                   0.0  \n",
       "1                 0.0                   1.0  \n",
       "2                 1.0                   0.0  \n",
       "3                 1.0                   0.0  \n",
       "4                 1.0                   1.0  \n",
       "\n",
       "[5 rows x 313 columns]"
      ]
     },
     "execution_count": 14,
     "metadata": {},
     "output_type": "execute_result"
    }
   ],
   "source": [
    "modelling_df.head()"
   ]
  },
  {
   "cell_type": "code",
   "execution_count": 15,
   "metadata": {},
   "outputs": [
    {
     "data": {
      "text/plain": [
       "808"
      ]
     },
     "execution_count": 15,
     "metadata": {},
     "output_type": "execute_result"
    }
   ],
   "source": [
    "len(modelling_df)"
   ]
  },
  {
   "cell_type": "code",
   "execution_count": 16,
   "metadata": {},
   "outputs": [
    {
     "data": {
      "text/plain": [
       "datetime.date(1999, 4, 23)"
      ]
     },
     "execution_count": 16,
     "metadata": {},
     "output_type": "execute_result"
    }
   ],
   "source": [
    "np.min(modelling_df.date).date()"
   ]
  },
  {
   "cell_type": "code",
   "execution_count": 17,
   "metadata": {},
   "outputs": [
    {
     "data": {
      "text/plain": [
       "datetime.date(2018, 4, 6)"
      ]
     },
     "execution_count": 17,
     "metadata": {},
     "output_type": "execute_result"
    }
   ],
   "source": [
    "np.max(modelling_df.date).date()"
   ]
  },
  {
   "cell_type": "code",
   "execution_count": 18,
   "metadata": {},
   "outputs": [
    {
     "data": {
      "text/html": [
       "<div>\n",
       "<style scoped>\n",
       "    .dataframe tbody tr th:only-of-type {\n",
       "        vertical-align: middle;\n",
       "    }\n",
       "\n",
       "    .dataframe tbody tr th {\n",
       "        vertical-align: top;\n",
       "    }\n",
       "\n",
       "    .dataframe thead th {\n",
       "        text-align: right;\n",
       "    }\n",
       "</style>\n",
       "<table border=\"1\" class=\"dataframe\">\n",
       "  <thead>\n",
       "    <tr style=\"text-align: right;\">\n",
       "      <th></th>\n",
       "      <th>two_factor_regimes</th>\n",
       "      <th>three_factor_regimes</th>\n",
       "    </tr>\n",
       "  </thead>\n",
       "  <tbody>\n",
       "    <tr>\n",
       "      <th>0</th>\n",
       "      <td>0.0</td>\n",
       "      <td>0.0</td>\n",
       "    </tr>\n",
       "    <tr>\n",
       "      <th>1</th>\n",
       "      <td>0.0</td>\n",
       "      <td>1.0</td>\n",
       "    </tr>\n",
       "    <tr>\n",
       "      <th>2</th>\n",
       "      <td>1.0</td>\n",
       "      <td>0.0</td>\n",
       "    </tr>\n",
       "    <tr>\n",
       "      <th>3</th>\n",
       "      <td>1.0</td>\n",
       "      <td>0.0</td>\n",
       "    </tr>\n",
       "    <tr>\n",
       "      <th>4</th>\n",
       "      <td>1.0</td>\n",
       "      <td>1.0</td>\n",
       "    </tr>\n",
       "    <tr>\n",
       "      <th>...</th>\n",
       "      <td>...</td>\n",
       "      <td>...</td>\n",
       "    </tr>\n",
       "    <tr>\n",
       "      <th>803</th>\n",
       "      <td>1.0</td>\n",
       "      <td>1.0</td>\n",
       "    </tr>\n",
       "    <tr>\n",
       "      <th>804</th>\n",
       "      <td>1.0</td>\n",
       "      <td>1.0</td>\n",
       "    </tr>\n",
       "    <tr>\n",
       "      <th>805</th>\n",
       "      <td>0.0</td>\n",
       "      <td>0.0</td>\n",
       "    </tr>\n",
       "    <tr>\n",
       "      <th>806</th>\n",
       "      <td>0.0</td>\n",
       "      <td>0.0</td>\n",
       "    </tr>\n",
       "    <tr>\n",
       "      <th>807</th>\n",
       "      <td>0.0</td>\n",
       "      <td>0.0</td>\n",
       "    </tr>\n",
       "  </tbody>\n",
       "</table>\n",
       "<p>808 rows × 2 columns</p>\n",
       "</div>"
      ],
      "text/plain": [
       "     two_factor_regimes  three_factor_regimes\n",
       "0                   0.0                   0.0\n",
       "1                   0.0                   1.0\n",
       "2                   1.0                   0.0\n",
       "3                   1.0                   0.0\n",
       "4                   1.0                   1.0\n",
       "..                  ...                   ...\n",
       "803                 1.0                   1.0\n",
       "804                 1.0                   1.0\n",
       "805                 0.0                   0.0\n",
       "806                 0.0                   0.0\n",
       "807                 0.0                   0.0\n",
       "\n",
       "[808 rows x 2 columns]"
      ]
     },
     "execution_count": 18,
     "metadata": {},
     "output_type": "execute_result"
    }
   ],
   "source": [
    "#checking out the two rows of y data - two and three factor regimes\n",
    "modelling_df[['two_factor_regimes','three_factor_regimes']]"
   ]
  },
  {
   "cell_type": "code",
   "execution_count": 19,
   "metadata": {},
   "outputs": [],
   "source": [
    "# creating a column that captures transition period in two factor regime\n",
    "\n",
    "modelling_df.two_factor_transition = ''\n",
    "i=0\n",
    "\n",
    "for i in range(len(modelling_df)-2):\n",
    "    if (modelling_df.ix[i, 'two_factor_regimes'] != modelling_df.ix[i+1, 'two_factor_regimes']):\n",
    "        \n",
    "        modelling_df.ix[i-1, 'two_factor_transition'] = 1\n",
    "        modelling_df.ix[i, 'two_factor_transition']   = 1\n",
    "        modelling_df.ix[i+1, 'two_factor_transition'] = 1\n",
    "        modelling_df.ix[i+2, 'two_factor_transition'] = 1\n",
    "    #else:\n",
    "    #    modelling_df.ix[i-1, 'two_factor_transition'] = 0\n",
    "    #    modelling_df.ix[i, 'two_factor_transition']   = 0\n",
    "    #    modelling_df.ix[i+1, 'two_factor_transition'] = 0\n",
    "\n",
    "modelling_df['two_factor_transition'].fillna(0, inplace = True)"
   ]
  },
  {
   "cell_type": "code",
   "execution_count": 20,
   "metadata": {},
   "outputs": [],
   "source": [
    "# creating a column that captures transition period in three factor regime\n",
    "\n",
    "modelling_df.three_factor_transition = ''\n",
    "i=0\n",
    "\n",
    "for i in range(len(modelling_df)-2):\n",
    "    if (modelling_df.ix[i, 'three_factor_regimes'] != modelling_df.ix[i+1, 'three_factor_regimes']):\n",
    "        \n",
    "        modelling_df.ix[i-1, 'three_factor_transition'] = 1\n",
    "        modelling_df.ix[i, 'three_factor_transition']   = 1\n",
    "        modelling_df.ix[i+1, 'three_factor_transition'] = 1\n",
    "        modelling_df.ix[i+2, 'three_factor_transition'] = 1\n",
    "\n",
    "modelling_df['three_factor_transition'].fillna(0, inplace = True)\n",
    "modelling_df = modelling_df[pd.isna(modelling_df['date'])!=True]"
   ]
  },
  {
   "cell_type": "code",
   "execution_count": 21,
   "metadata": {},
   "outputs": [
    {
     "data": {
      "text/plain": [
       "two_factor_transition\n",
       "0.0    745\n",
       "1.0     63\n",
       "Name: two_factor_transition, dtype: int64"
      ]
     },
     "execution_count": 21,
     "metadata": {},
     "output_type": "execute_result"
    }
   ],
   "source": [
    "# checking counts of rows in transition and non-transition periods\n",
    "modelling_df.groupby('two_factor_transition')['two_factor_transition'].count()"
   ]
  },
  {
   "cell_type": "code",
   "execution_count": 22,
   "metadata": {},
   "outputs": [
    {
     "data": {
      "text/plain": [
       "three_factor_transition\n",
       "0.0    650\n",
       "1.0    158\n",
       "Name: three_factor_transition, dtype: int64"
      ]
     },
     "execution_count": 22,
     "metadata": {},
     "output_type": "execute_result"
    }
   ],
   "source": [
    "# checking counts of rows in transition and non-transition periods\n",
    "modelling_df.groupby('three_factor_transition')['three_factor_transition'].count()"
   ]
  },
  {
   "cell_type": "code",
   "execution_count": 23,
   "metadata": {},
   "outputs": [
    {
     "data": {
      "text/plain": [
       "808"
      ]
     },
     "execution_count": 23,
     "metadata": {},
     "output_type": "execute_result"
    }
   ],
   "source": [
    "len(modelling_df[pd.isna(modelling_df['date'])!=True])"
   ]
  },
  {
   "cell_type": "code",
   "execution_count": 24,
   "metadata": {},
   "outputs": [],
   "source": [
    "# saving final dataset at CSV\n",
    "modelling_df.to_csv('modelling_dataset_final.csv')"
   ]
  }
 ],
 "metadata": {
  "kernelspec": {
   "display_name": "Python 3",
   "language": "python",
   "name": "python3"
  },
  "language_info": {
   "codemirror_mode": {
    "name": "ipython",
    "version": 3
   },
   "file_extension": ".py",
   "mimetype": "text/x-python",
   "name": "python",
   "nbconvert_exporter": "python",
   "pygments_lexer": "ipython3",
   "version": "3.7.1"
  }
 },
 "nbformat": 4,
 "nbformat_minor": 2
}
